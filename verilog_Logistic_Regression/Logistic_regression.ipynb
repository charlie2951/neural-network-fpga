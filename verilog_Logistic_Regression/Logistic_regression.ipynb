{
 "cells": [
  {
   "cell_type": "code",
   "execution_count": 1,
   "metadata": {},
   "outputs": [],
   "source": [
    "#Breast cancer detection using logistic regression\n",
    "# import the necessary libraries\n",
    "from sklearn.datasets import load_breast_cancer\n",
    "from sklearn.linear_model import LogisticRegression\n",
    "from sklearn.model_selection import train_test_split\n",
    "from sklearn.metrics import accuracy_score\n",
    "# load the breast cancer dataset\n",
    "X, y = load_breast_cancer(return_X_y=True)\n",
    "# split the train and test dataset\n",
    "X_train, X_test,\\\n",
    "\ty_train, y_test = train_test_split(X, y,\n",
    "\t\t\t\t\t\t\t\t\ttest_size=0.20,\n",
    "\t\t\t\t\t\t\t\t\trandom_state=23)\n",
    "#feature Scaling  \n",
    "from sklearn.preprocessing import StandardScaler    \n",
    "st_x= StandardScaler()    \n",
    "X_train= st_x.fit_transform(X_train)    \n",
    "X_test= st_x.transform(X_test)  \n"
   ]
  },
  {
   "cell_type": "code",
   "execution_count": 2,
   "metadata": {},
   "outputs": [
    {
     "name": "stdout",
     "output_type": "stream",
     "text": [
      "Logistic Regression model accuracy (in %): 98.24561403508771\n"
     ]
    }
   ],
   "source": [
    "# LogisticRegression\n",
    "clf = LogisticRegression(random_state=0)\n",
    "clf.fit(X_train, y_train)\n",
    "# Prediction\n",
    "y_pred = clf.predict(X_test)\n",
    "\n",
    "acc = accuracy_score(y_test, y_pred)\n",
    "print(\"Logistic Regression model accuracy (in %):\", acc*100)"
   ]
  },
  {
   "cell_type": "code",
   "execution_count": 3,
   "metadata": {},
   "outputs": [
    {
     "name": "stdout",
     "output_type": "stream",
     "text": [
      "1\n"
     ]
    }
   ],
   "source": [
    "print(y_test[0])"
   ]
  },
  {
   "cell_type": "code",
   "execution_count": 3,
   "metadata": {},
   "outputs": [
    {
     "name": "stdout",
     "output_type": "stream",
     "text": [
      "weight matrix:\n",
      "[[-0.27606602 -0.30310086 -0.29072665 -0.3524495  -0.08887332  0.69489667\n",
      "  -0.83159164 -0.90390551  0.04029888  0.36520447 -1.19757111  0.35202956\n",
      "  -0.74109251 -0.97521346 -0.27495612  0.6191506   0.25707841 -0.35592781\n",
      "   0.17637931  0.52153286 -0.87737574 -1.40343681 -0.76559961 -0.90697874\n",
      "  -0.79031648 -0.01037606 -0.93300924 -0.95154361 -0.90587541 -0.17442082]]\n",
      "Bias value:\n",
      "[[0.10606283]]\n"
     ]
    }
   ],
   "source": [
    "#Print model parameters (weight and bias vector)\n",
    "print('weight matrix:')\n",
    "print(clf.coef_)\n",
    "print('Bias value:')\n",
    "print(clf.intercept_[:,None])"
   ]
  },
  {
   "cell_type": "code",
   "execution_count": 4,
   "metadata": {},
   "outputs": [],
   "source": [
    "#wrapper function to write the trained model's weight\n",
    "#and bias value into a text file so that HLS tool can use it.\n",
    "import numpy as np\n",
    "QF=12\n",
    "w1=clf.coef_\n",
    "f=open(\"exported12.txt\",\"w\")\n",
    "f.write(\"//******Model parameters extracted from Python *******//\")\n",
    "f.write(\"\\n\")\n",
    "f.write(\"//******Copyright: Dr. Subir Kr. Maity. School of Electronics, KIIT, Bhubaneswar ******//\")\n",
    "f.write(\"\\n\")\n",
    "f.write(\"//****12-bit quantization used*****//\")\n",
    "f.write(\"\\n\\n\")\n",
    "f.write(\"int QF = \"+str(pow(2,QF))+\";\"+\"\\n\")\n",
    "f.write(\"int weight[]={\")\n",
    "for i in range(30):\n",
    "    f.write(str(round(w1[0][i]*pow(2,QF))))\n",
    "    #printing in a file , five weight in a line\n",
    "    \n",
    "    if(i<29):\n",
    "        f.write(\",\")\n",
    "    if((i+1)%5==0):\n",
    "        f.write(\"\\n\")\n",
    "f.write(\"};\")\n",
    "#printing bias value of logistic regression model\n",
    "f.write(\"\\n\")\n",
    "f.write(\"int bias=\")\n",
    "bias = clf.intercept_[:,None][0][0]\n",
    "f.write(str(round(bias*pow(2,QF))))\n",
    "f.write(\";\")\n",
    "f.write(\"\\n\")\n",
    "\n",
    "#writing trained model's input (anyone feature row) for dumping\n",
    "f.write(\"int X[]={\")\n",
    "for i in range(30):\n",
    "    f.write(str(round(X_test[0][i]*pow(2,QF))))\n",
    "    #printing in a file , five weight in a line\n",
    "    \n",
    "    if(i<29):\n",
    "        f.write(\",\")\n",
    "    if((i+1)%5==0):\n",
    "        f.write(\"\\n\")\n",
    "f.write(\"};\")\n",
    "#printing bias value of logistic regression model\n",
    "f.close()"
   ]
  },
  {
   "cell_type": "code",
   "execution_count": 5,
   "metadata": {},
   "outputs": [
    {
     "name": "stdout",
     "output_type": "stream",
     "text": [
      "Hex number is 846b\n",
      "Hex number is 84da\n",
      "Hex number is 84a7\n",
      "Hex number is 85a4\n",
      "Hex number is 816c\n",
      "Hex number is b1e\n",
      "Hex number is 8d4e\n",
      "Hex number is 8e76\n",
      "Hex number is a5\n",
      "Hex number is 5d8\n",
      "Hex number is 9329\n",
      "Hex number is 5a2\n",
      "Hex number is 8bdc\n",
      "Hex number is 8f9a\n",
      "Hex number is 8466\n",
      "Hex number is 9e8\n",
      "Hex number is 41d\n",
      "Hex number is 85b2\n",
      "Hex number is 2d2\n",
      "Hex number is 858\n",
      "Hex number is 8e0a\n",
      "Hex number is 9674\n",
      "Hex number is 8c40\n",
      "Hex number is 8e83\n",
      "Hex number is 8ca5\n",
      "Hex number is 802b\n",
      "Hex number is 8eee\n",
      "Hex number is 8f3a\n",
      "Hex number is 8e7e\n",
      "Hex number is 82ca\n",
      "Bias value in Hex format is:  0000000110110010\n"
     ]
    }
   ],
   "source": [
    "#function to convert dec to bin in 16 bit signed magnitude representation\n",
    "#15 bit used for data and 1st bit used for sign\n",
    "def bin2hex(n):\n",
    "\t# convert binary to int\n",
    "    num = int(n, 2)\n",
    "\t# convert int to hexadecimal\n",
    "    hex_num = format(num, 'x')\n",
    "    return hex_num\n",
    "\n",
    "def d2bin(num):\n",
    "\tif num >= 1:\n",
    "\t\t\ttt=\"0\"+format(num,'015b')\n",
    "\t\t\t#print('0'+format(num,'012b')) \n",
    "\telse:\n",
    "\t\t#print('1'+format(abs(num),'012b'))\n",
    "\t\ttt='1'+format(abs(num),'015b')\n",
    "\t#print(\"Binary number is:\",tt)\n",
    "\treturn tt\n",
    "\n",
    "#d2bin(13)\n",
    "#decimal_number = 69\n",
    "fp=open(\"ram_weight.txt\",\"w\")\n",
    "for i in range(30):\n",
    "\ttmp = round(w1[0][i]*pow(2,QF))\n",
    "\ty=d2bin(tmp)\n",
    "\tprint(\"Hex number is\",bin2hex(str(y)))\n",
    "\t#store the hex number in a text file\n",
    "\tfp.write(str(y)+\"\\n\")\n",
    "fp.close()\n",
    "\n",
    "#write features X[] in a file\n",
    "fp=open(\"ram_features.txt\",\"w\")\n",
    "for i in range(30):\n",
    "\ttmp = round(X_test[0][i]*pow(2,QF))\n",
    "\ty=d2bin(tmp)\n",
    "\t#print(\"Hex number is\",bin2hex(str(y)))\n",
    "\t#store the hex number in a text file\n",
    "\tfp.write(str(y)+\"\\n\")\n",
    "fp.close()\t\n",
    "\n",
    "#print bias value in hex format\n",
    "b = round(clf.intercept_[:,None][0][0]*pow(2,QF))\n",
    "b1=d2bin(b)\n",
    "bias = bin2hex(str(b1))\n",
    "print(\"Bias value in Hex format is: \",b1)"
   ]
  },
  {
   "cell_type": "code",
   "execution_count": 23,
   "metadata": {},
   "outputs": [
    {
     "name": "stdout",
     "output_type": "stream",
     "text": [
      "-0.5512929282254292\n"
     ]
    }
   ],
   "source": [
    "print(X_test[0][0])"
   ]
  }
 ],
 "metadata": {
  "kernelspec": {
   "display_name": "Python 3",
   "language": "python",
   "name": "python3"
  },
  "language_info": {
   "codemirror_mode": {
    "name": "ipython",
    "version": 3
   },
   "file_extension": ".py",
   "mimetype": "text/x-python",
   "name": "python",
   "nbconvert_exporter": "python",
   "pygments_lexer": "ipython3",
   "version": "3.10.12"
  },
  "orig_nbformat": 4
 },
 "nbformat": 4,
 "nbformat_minor": 2
}
